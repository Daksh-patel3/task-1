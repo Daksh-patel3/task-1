{
 "cells": [
  {
   "cell_type": "code",
   "execution_count": 2,
   "id": "e8dfa969-c906-4f49-9c9e-935054c55c0f",
   "metadata": {},
   "outputs": [
    {
     "name": "stdout",
     "output_type": "stream",
     "text": [
      "for loop\n",
      "1\n",
      "2\n",
      "3\n",
      "4\n",
      "5\n",
      "while loop\n",
      "1\n",
      "2\n",
      "3\n",
      "4\n"
     ]
    }
   ],
   "source": [
    "#q1\n",
    "\"\"\"for loop is use when we know number exactly howmany times we want to repeate a code.\n",
    "It is used to traverse elements in list,set,tuole,dictionary\"\"\"\n",
    "\n",
    "print(\"for loop\")\n",
    "l=[1,2,3,4,5]\n",
    "\n",
    "for i in l:\n",
    "    print(i)\n",
    "    \n",
    "\"\"\"while loop is use when we want to repeate a code until specified condition is met\"\"\"\n",
    "print(\"while loop\")\n",
    "a=1\n",
    "\n",
    "while a<5:\n",
    "    print(a)\n",
    "    a=a+1"
   ]
  },
  {
   "cell_type": "code",
   "execution_count": 6,
   "id": "affeae09-791b-46a4-a7bd-1f2c06cfbc5f",
   "metadata": {},
   "outputs": [
    {
     "name": "stdout",
     "output_type": "stream",
     "text": [
      "1) for loop\n",
      "sum and product of first 10 natural numbers are 55 and 3628800\n",
      "\n",
      "2) while loop\n",
      "sum and product of first 10 natural numbers are 55 and 3628800\n"
     ]
    }
   ],
   "source": [
    "#q2\n",
    "sum,product=0,1\n",
    "\n",
    "print(\"1) for loop\")\n",
    "\n",
    "for i in range(1,11):\n",
    "    sum=sum+i\n",
    "    product=product*i\n",
    "print(\"sum and product of first 10 natural numbers are\",sum,\"and\",product)\n",
    "\n",
    "print(\"\")\n",
    "\n",
    "print(\"2) while loop\")\n",
    "\n",
    "sum,product=0,1\n",
    "i=1\n",
    "\n",
    "while i<=10:\n",
    "    sum=sum+i\n",
    "    product=product*i\n",
    "    i=i+1\n",
    "print(\"sum and product of first 10 natural numbers are\",sum,\"and\",product)\n"
   ]
  },
  {
   "cell_type": "code",
   "execution_count": 7,
   "id": "1995cb8f-30b7-4281-8e63-eb9d305b9d5c",
   "metadata": {},
   "outputs": [
    {
     "name": "stdin",
     "output_type": "stream",
     "text": [
      "Enter a number of units consumed- 310\n"
     ]
    },
    {
     "name": "stdout",
     "output_type": "stream",
     "text": [
      "charge of electicity in household is  2250.0  rupees\n"
     ]
    }
   ],
   "source": [
    "#q3\n",
    "units=int(input(\"Enter a number of units consumed-\"))\n",
    "charge=0\n",
    "i=1\n",
    "\n",
    "while i<=units:\n",
    "    if i<=100:\n",
    "        charge=charge+4.5\n",
    "    elif i>100 and i<=200:\n",
    "        charge=charge+6\n",
    "    elif i>200 and i<=300:\n",
    "        charge=charge+10\n",
    "    else:\n",
    "        charge=charge+20\n",
    "    i=i+1\n",
    "print(\"charge of electicity in household is \",charge,\" rupees\")\n",
    "    "
   ]
  },
  {
   "cell_type": "code",
   "execution_count": 9,
   "id": "d22d035d-83ab-43ef-832d-050c6e7deb13",
   "metadata": {},
   "outputs": [
    {
     "name": "stdout",
     "output_type": "stream",
     "text": [
      "1) for loop\n",
      "[2, 4, 5, 6, 8, 10, 12, 14, 15, 16, 18, 20, 22, 24, 25, 26, 28, 30, 32, 34, 35, 36, 38, 40, 42, 44, 45, 46, 48, 50, 52, 54, 55, 56, 58, 60, 62, 64, 65, 66, 68, 70, 72, 74, 75, 76, 78, 80, 82, 84, 85, 86, 88, 90, 92, 94, 95, 96, 98, 100]\n",
      "\n",
      "2)while loop\n",
      "[2, 4, 5, 6, 8, 10, 12, 14, 15, 16, 18, 20, 22, 24, 25, 26, 28, 30, 32, 34, 35, 36, 38, 40, 42, 44, 45, 46, 48, 50, 52, 54, 55, 56, 58, 60, 62, 64, 65, 66, 68, 70, 72, 74, 75, 76, 78, 80, 82, 84, 85, 86, 88, 90, 92, 94, 95, 96, 98, 100]\n"
     ]
    }
   ],
   "source": [
    "#q4\n",
    "l=list(range(1,101))\n",
    "l2=[]\n",
    "print(\"1) for loop\")\n",
    "\n",
    "for i in l:\n",
    "    c=i**3\n",
    "    if c%4==0 or c%5==0:\n",
    "        l2.append(i)\n",
    "print(l2)\n",
    "\n",
    "print(\"\")\n",
    "\n",
    "print(\"2)while loop\")\n",
    "l2=[]\n",
    "i=1\n",
    "\n",
    "while i<=100:\n",
    "    c=i**3\n",
    "    if c%4==0 or c%5==0:\n",
    "        l2.append(i)\n",
    "    i=i+1\n",
    "print(l2)  "
   ]
  },
  {
   "cell_type": "code",
   "execution_count": 11,
   "id": "3c557de4-7631-4e53-9190-a00f528b91f2",
   "metadata": {},
   "outputs": [
    {
     "name": "stdout",
     "output_type": "stream",
     "text": [
      "number of vowels in string are:  12\n"
     ]
    }
   ],
   "source": [
    "#q5\n",
    "string=\"I want to become a datascientist\"\n",
    "count=0\n",
    "vowel=['a','e','i','o','u','A','E','I','O','U']\n",
    "\n",
    "\n",
    "for i in string:\n",
    "    if i in vowel:\n",
    "        count=count+1\n",
    "print(\"number of vowels in string are: \",count)"
   ]
  },
  {
   "cell_type": "code",
   "execution_count": null,
   "id": "6b27a5c9-95b4-4872-b60c-17ab86d8d706",
   "metadata": {},
   "outputs": [],
   "source": []
  }
 ],
 "metadata": {
  "kernelspec": {
   "display_name": "Python 3 (ipykernel)",
   "language": "python",
   "name": "python3"
  },
  "language_info": {
   "codemirror_mode": {
    "name": "ipython",
    "version": 3
   },
   "file_extension": ".py",
   "mimetype": "text/x-python",
   "name": "python",
   "nbconvert_exporter": "python",
   "pygments_lexer": "ipython3",
   "version": "3.10.8"
  }
 },
 "nbformat": 4,
 "nbformat_minor": 5
}
