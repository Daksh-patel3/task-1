{
 "cells": [
  {
   "cell_type": "code",
   "execution_count": 83,
   "id": "b5d788e1-6cfa-4baa-9d04-aa83bf157c3b",
   "metadata": {},
   "outputs": [],
   "source": [
    "#q1\n",
    "l = [1,2,3,4, [44,55,66, True], False, (34,56,78,89,34), {1,2,3,3,2,1}, {1:34, \"key2\": [55, 67, 78, 89], 4: (45,\n",
    "22, 61, 34)}, [56, 'data science'], 'Machine Learning']\n",
    "\n",
    "l2=[]"
   ]
  },
  {
   "cell_type": "code",
   "execution_count": 84,
   "id": "2d474b59-9023-4d22-864f-3c98cd59a92d",
   "metadata": {},
   "outputs": [],
   "source": [
    "from functools import reduce"
   ]
  },
  {
   "cell_type": "code",
   "execution_count": 85,
   "id": "afd2d54e-af0c-4906-bf36-b7271ae81441",
   "metadata": {},
   "outputs": [],
   "source": [
    "#note-duplicate values in set is not counted in product because set is always consist unique values\n",
    "def product(l):\n",
    "    def flatlist(l):\n",
    "        for i in l:\n",
    "            if type(i)==int:\n",
    "                l2.append(i)\n",
    "            elif type(i)==list or type(i)==tuple or type(i)==set:\n",
    "                flatlist(i)\n",
    "            elif type(i)==dict:\n",
    "                flatlist(tuple(i))\n",
    "            \n",
    "        return l2\n",
    "    return reduce(lambda x,y:x*y,flatlist(l))\n",
    "    \n",
    "            \n",
    "    "
   ]
  },
  {
   "cell_type": "code",
   "execution_count": 86,
   "id": "d2df3b43-beee-4262-9eb5-f02d0907dfec",
   "metadata": {},
   "outputs": [
    {
     "data": {
      "text/plain": [
       "2315262738624675840"
      ]
     },
     "execution_count": 86,
     "metadata": {},
     "output_type": "execute_result"
    }
   ],
   "source": [
    "product(l)"
   ]
  },
  {
   "cell_type": "markdown",
   "id": "e46e7344-9999-40a0-a4f4-41e3e1245d95",
   "metadata": {},
   "source": [
    "Question-2\n",
    "\n"
   ]
  },
  {
   "cell_type": "code",
   "execution_count": 21,
   "id": "ca4b961a-d62e-4060-adf2-3b78e9268e95",
   "metadata": {},
   "outputs": [
    {
     "name": "stdin",
     "output_type": "stream",
     "text": [
      "Enter your message: I want to become a Data Scientist.\n"
     ]
    },
    {
     "name": "stdout",
     "output_type": "stream",
     "text": [
      "r$dzmg$gl$yvxlnv$z$wzgz$hxrvmgrhg.\n"
     ]
    }
   ],
   "source": [
    "#q2\n",
    "import string\n",
    "\n",
    "#taking input message and converting into lowecase\n",
    "inp=input(\"Enter your message:\")\n",
    "inp=inp.lower()\n",
    "\n",
    "#generating list of alphabet from a-z in l1 and z-a in l2\n",
    "l1=list(string.ascii_lowercase)\n",
    "l2=l1[::-1]\n",
    "\n",
    "#mapping to a:z,b:y etc and conver into dictionary\n",
    "l=list(map(lambda x,y:(x,y),l1,l2))\n",
    "d=dict(l)\n",
    "\n",
    "\n",
    "#adding mapping for space and .\n",
    "d.update({\" \":\"$\",\".\":\".\"})     \n",
    "\n",
    "s=\"\"\n",
    "for i in inp:\n",
    "    s=s+d[i]\n",
    "       \n",
    "print(s)"
   ]
  }
 ],
 "metadata": {
  "kernelspec": {
   "display_name": "Python 3 (ipykernel)",
   "language": "python",
   "name": "python3"
  },
  "language_info": {
   "codemirror_mode": {
    "name": "ipython",
    "version": 3
   },
   "file_extension": ".py",
   "mimetype": "text/x-python",
   "name": "python",
   "nbconvert_exporter": "python",
   "pygments_lexer": "ipython3",
   "version": "3.10.8"
  }
 },
 "nbformat": 4,
 "nbformat_minor": 5
}
