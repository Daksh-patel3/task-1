{
 "cells": [
  {
   "cell_type": "code",
   "execution_count": 1,
   "id": "bc380286-b440-4938-88d7-a3dbf430c8f9",
   "metadata": {},
   "outputs": [],
   "source": [
    "l=[1,345,45,\"sudh\",True,5+7j,345.456]"
   ]
  },
  {
   "cell_type": "code",
   "execution_count": 2,
   "id": "9e2a2b5a-adf6-4d87-a888-1e4a05f2d2e2",
   "metadata": {},
   "outputs": [
    {
     "data": {
      "text/plain": [
       "[1, 345, 45, 'sudh', True, (5+7j), 345.456]"
      ]
     },
     "execution_count": 2,
     "metadata": {},
     "output_type": "execute_result"
    }
   ],
   "source": [
    "l"
   ]
  },
  {
   "cell_type": "code",
   "execution_count": 3,
   "id": "ac98477d-5e9a-4e19-bbbb-52cbe702ddab",
   "metadata": {},
   "outputs": [
    {
     "data": {
      "text/plain": [
       "list"
      ]
     },
     "execution_count": 3,
     "metadata": {},
     "output_type": "execute_result"
    }
   ],
   "source": [
    "type(l)"
   ]
  },
  {
   "cell_type": "code",
   "execution_count": 4,
   "id": "b7befbb6-d010-456a-bfd3-a22f784a9be0",
   "metadata": {},
   "outputs": [
    {
     "data": {
      "text/plain": [
       "1"
      ]
     },
     "execution_count": 4,
     "metadata": {},
     "output_type": "execute_result"
    }
   ],
   "source": [
    "l[0]"
   ]
  },
  {
   "cell_type": "code",
   "execution_count": 5,
   "id": "70058c6e-0b66-467b-ac81-b275f3681e3e",
   "metadata": {},
   "outputs": [
    {
     "data": {
      "text/plain": [
       "True"
      ]
     },
     "execution_count": 5,
     "metadata": {},
     "output_type": "execute_result"
    }
   ],
   "source": [
    "l[4]"
   ]
  },
  {
   "cell_type": "code",
   "execution_count": 6,
   "id": "8717de3a-4918-49e4-83db-ca7c2ebf11b7",
   "metadata": {},
   "outputs": [
    {
     "ename": "IndexError",
     "evalue": "list index out of range",
     "output_type": "error",
     "traceback": [
      "\u001b[0;31m---------------------------------------------------------------------------\u001b[0m",
      "\u001b[0;31mIndexError\u001b[0m                                Traceback (most recent call last)",
      "Cell \u001b[0;32mIn[6], line 1\u001b[0m\n\u001b[0;32m----> 1\u001b[0m \u001b[43ml\u001b[49m\u001b[43m[\u001b[49m\u001b[38;5;241;43m90\u001b[39;49m\u001b[43m]\u001b[49m\n",
      "\u001b[0;31mIndexError\u001b[0m: list index out of range"
     ]
    }
   ],
   "source": [
    "l[90]"
   ]
  },
  {
   "cell_type": "code",
   "execution_count": 7,
   "id": "680683bf-e6f1-4778-aeef-a90085e37a9f",
   "metadata": {},
   "outputs": [
    {
     "data": {
      "text/plain": [
       "[1, 345, 45]"
      ]
     },
     "execution_count": 7,
     "metadata": {},
     "output_type": "execute_result"
    }
   ],
   "source": [
    "l[0:3]"
   ]
  },
  {
   "cell_type": "code",
   "execution_count": 8,
   "id": "8315fded-382c-4973-9869-35882005ebff",
   "metadata": {},
   "outputs": [
    {
     "data": {
      "text/plain": [
       "345.456"
      ]
     },
     "execution_count": 8,
     "metadata": {},
     "output_type": "execute_result"
    }
   ],
   "source": [
    "l[-1]"
   ]
  },
  {
   "cell_type": "code",
   "execution_count": 9,
   "id": "43beab28-7a78-456c-a54e-bce7fba78003",
   "metadata": {},
   "outputs": [
    {
     "data": {
      "text/plain": [
       "[345.456, (5+7j), True, 'sudh', 45, 345, 1]"
      ]
     },
     "execution_count": 9,
     "metadata": {},
     "output_type": "execute_result"
    }
   ],
   "source": [
    "l[::-1]"
   ]
  },
  {
   "cell_type": "code",
   "execution_count": 10,
   "id": "3ab6e478-8894-4016-8083-f83027e31003",
   "metadata": {},
   "outputs": [],
   "source": [
    "s=\"pwskills\""
   ]
  },
  {
   "cell_type": "code",
   "execution_count": 11,
   "id": "4e60fc9f-48fa-4688-97cd-f56e1a374d20",
   "metadata": {},
   "outputs": [
    {
     "ename": "TypeError",
     "evalue": "can only concatenate list (not \"str\") to list",
     "output_type": "error",
     "traceback": [
      "\u001b[0;31m---------------------------------------------------------------------------\u001b[0m",
      "\u001b[0;31mTypeError\u001b[0m                                 Traceback (most recent call last)",
      "Cell \u001b[0;32mIn[11], line 1\u001b[0m\n\u001b[0;32m----> 1\u001b[0m \u001b[43ml\u001b[49m\u001b[38;5;241;43m+\u001b[39;49m\u001b[43ms\u001b[49m\n",
      "\u001b[0;31mTypeError\u001b[0m: can only concatenate list (not \"str\") to list"
     ]
    }
   ],
   "source": [
    "l+s"
   ]
  },
  {
   "cell_type": "code",
   "execution_count": 12,
   "id": "1f3fdc2a-6a80-41bd-b695-a52535a0ba96",
   "metadata": {},
   "outputs": [
    {
     "data": {
      "text/plain": [
       "[1, 345, 45, 'sudh', True, (5+7j), 345.456]"
      ]
     },
     "execution_count": 12,
     "metadata": {},
     "output_type": "execute_result"
    }
   ],
   "source": [
    "l"
   ]
  },
  {
   "cell_type": "code",
   "execution_count": 13,
   "id": "00b0cc16-fad8-4ff9-becc-b8f0ef6473c5",
   "metadata": {},
   "outputs": [
    {
     "data": {
      "text/plain": [
       "'su'"
      ]
     },
     "execution_count": 13,
     "metadata": {},
     "output_type": "execute_result"
    }
   ],
   "source": [
    "l[3][0:2]"
   ]
  },
  {
   "cell_type": "code",
   "execution_count": 14,
   "id": "4ded0d5b-92e7-4eb3-bfd2-b36acdd17a62",
   "metadata": {},
   "outputs": [],
   "source": [
    "l1=[3,4,5]"
   ]
  },
  {
   "cell_type": "code",
   "execution_count": 15,
   "id": "46505c22-46a9-4d20-8a04-2f70738be945",
   "metadata": {},
   "outputs": [
    {
     "data": {
      "text/plain": [
       "[1, 345, 45, 'sudh', True, (5+7j), 345.456, 3, 4, 5]"
      ]
     },
     "execution_count": 15,
     "metadata": {},
     "output_type": "execute_result"
    }
   ],
   "source": [
    "l+l1"
   ]
  },
  {
   "cell_type": "code",
   "execution_count": 16,
   "id": "da456cf4-a8a4-42a3-8fed-4fd1dd4ab72c",
   "metadata": {},
   "outputs": [
    {
     "data": {
      "text/plain": [
       "[3, 4, 5, 3, 4, 5, 3, 4, 5]"
      ]
     },
     "execution_count": 16,
     "metadata": {},
     "output_type": "execute_result"
    }
   ],
   "source": [
    "l1*3"
   ]
  },
  {
   "cell_type": "code",
   "execution_count": 17,
   "id": "82f8319e-1798-4b7e-9d99-792ae464b5ce",
   "metadata": {},
   "outputs": [
    {
     "data": {
      "text/plain": [
       "7"
      ]
     },
     "execution_count": 17,
     "metadata": {},
     "output_type": "execute_result"
    }
   ],
   "source": [
    "len(l)"
   ]
  },
  {
   "cell_type": "code",
   "execution_count": 19,
   "id": "541ea136-bd83-4727-a360-0c79b469638e",
   "metadata": {},
   "outputs": [
    {
     "data": {
      "text/plain": [
       "[1, 345, 45, 'sudh', True, (5+7j), 345.456, 5, 5]"
      ]
     },
     "execution_count": 19,
     "metadata": {},
     "output_type": "execute_result"
    }
   ],
   "source": [
    "l.append(5)\n",
    "l"
   ]
  },
  {
   "cell_type": "code",
   "execution_count": 20,
   "id": "ac79338b-51c0-4c43-b925-655f90e37a3e",
   "metadata": {},
   "outputs": [
    {
     "data": {
      "text/plain": [
       "5"
      ]
     },
     "execution_count": 20,
     "metadata": {},
     "output_type": "execute_result"
    }
   ],
   "source": [
    "l.pop()"
   ]
  },
  {
   "cell_type": "code",
   "execution_count": 21,
   "id": "e75f6ab7-29ee-440f-8308-b9d4025333f3",
   "metadata": {},
   "outputs": [
    {
     "data": {
      "text/plain": [
       "[1, 345, 45, 'sudh', True, (5+7j), 345.456, 5]"
      ]
     },
     "execution_count": 21,
     "metadata": {},
     "output_type": "execute_result"
    }
   ],
   "source": [
    "l"
   ]
  },
  {
   "cell_type": "code",
   "execution_count": 22,
   "id": "2244091e-5e1c-47ed-bb34-b3b28fb87042",
   "metadata": {},
   "outputs": [
    {
     "data": {
      "text/plain": [
       "'pwskills'"
      ]
     },
     "execution_count": 22,
     "metadata": {},
     "output_type": "execute_result"
    }
   ],
   "source": [
    "l.append(s)"
   ]
  },
  {
   "cell_type": "code",
   "execution_count": 23,
   "id": "d83c9e3f-fd32-4c29-963f-04e520130595",
   "metadata": {},
   "outputs": [
    {
     "data": {
      "text/plain": [
       "[1, 345, 45, 'sudh', True, (5+7j), 345.456, 5, 'pwskills']"
      ]
     },
     "execution_count": 23,
     "metadata": {},
     "output_type": "execute_result"
    }
   ],
   "source": [
    "l"
   ]
  },
  {
   "cell_type": "code",
   "execution_count": 24,
   "id": "1bbe270c-7a81-4573-8174-ec680d634ba8",
   "metadata": {},
   "outputs": [],
   "source": [
    "l.append(l1)"
   ]
  },
  {
   "cell_type": "code",
   "execution_count": 25,
   "id": "1bf4a478-d5bf-40a9-809f-bc556d80684a",
   "metadata": {},
   "outputs": [
    {
     "data": {
      "text/plain": [
       "[1, 345, 45, 'sudh', True, (5+7j), 345.456, 5, 'pwskills', [3, 4, 5]]"
      ]
     },
     "execution_count": 25,
     "metadata": {},
     "output_type": "execute_result"
    }
   ],
   "source": [
    "l"
   ]
  },
  {
   "cell_type": "code",
   "execution_count": 28,
   "id": "9db55db5-1f51-4624-b453-b3b15b3d8928",
   "metadata": {},
   "outputs": [
    {
     "data": {
      "text/plain": [
       "4"
      ]
     },
     "execution_count": 28,
     "metadata": {},
     "output_type": "execute_result"
    }
   ],
   "source": [
    "l[-1][1]"
   ]
  },
  {
   "cell_type": "code",
   "execution_count": 29,
   "id": "2c3d939b-a8cf-4685-96a7-70d9392f3c32",
   "metadata": {},
   "outputs": [
    {
     "ename": "TypeError",
     "evalue": "'int' object is not iterable",
     "output_type": "error",
     "traceback": [
      "\u001b[0;31m---------------------------------------------------------------------------\u001b[0m",
      "\u001b[0;31mTypeError\u001b[0m                                 Traceback (most recent call last)",
      "Cell \u001b[0;32mIn[29], line 1\u001b[0m\n\u001b[0;32m----> 1\u001b[0m \u001b[43ml\u001b[49m\u001b[38;5;241;43m.\u001b[39;49m\u001b[43mextend\u001b[49m\u001b[43m(\u001b[49m\u001b[38;5;241;43m4\u001b[39;49m\u001b[43m)\u001b[49m\n",
      "\u001b[0;31mTypeError\u001b[0m: 'int' object is not iterable"
     ]
    }
   ],
   "source": [
    "l.extend(4)"
   ]
  },
  {
   "cell_type": "code",
   "execution_count": 30,
   "id": "db18c15e-88e6-4ad2-870f-2755a69fbfaa",
   "metadata": {},
   "outputs": [],
   "source": [
    "l.extend(\"git\")"
   ]
  },
  {
   "cell_type": "code",
   "execution_count": 31,
   "id": "abbbd9a0-2b33-43a5-b112-cf0a398fc2d6",
   "metadata": {},
   "outputs": [
    {
     "data": {
      "text/plain": [
       "[1,\n",
       " 345,\n",
       " 45,\n",
       " 'sudh',\n",
       " True,\n",
       " (5+7j),\n",
       " 345.456,\n",
       " 5,\n",
       " 'pwskills',\n",
       " [3, 4, 5],\n",
       " 'g',\n",
       " 'i',\n",
       " 't']"
      ]
     },
     "execution_count": 31,
     "metadata": {},
     "output_type": "execute_result"
    }
   ],
   "source": [
    "l"
   ]
  },
  {
   "cell_type": "code",
   "execution_count": 32,
   "id": "fc89da67-2aec-4683-ad3e-f61bc5976762",
   "metadata": {},
   "outputs": [],
   "source": [
    "l.extend([7,8,9])"
   ]
  },
  {
   "cell_type": "code",
   "execution_count": 33,
   "id": "7da02c96-72ef-40a4-b84f-852efe8f7982",
   "metadata": {},
   "outputs": [
    {
     "data": {
      "text/plain": [
       "[1,\n",
       " 345,\n",
       " 45,\n",
       " 'sudh',\n",
       " True,\n",
       " (5+7j),\n",
       " 345.456,\n",
       " 5,\n",
       " 'pwskills',\n",
       " [3, 4, 5],\n",
       " 'g',\n",
       " 'i',\n",
       " 't',\n",
       " 7,\n",
       " 8,\n",
       " 9]"
      ]
     },
     "execution_count": 33,
     "metadata": {},
     "output_type": "execute_result"
    }
   ],
   "source": [
    "l"
   ]
  },
  {
   "cell_type": "code",
   "execution_count": 3,
   "id": "53daa12c-ef94-4de2-99db-505b4f1aa672",
   "metadata": {},
   "outputs": [],
   "source": [
    "li=[1,2,3]"
   ]
  },
  {
   "cell_type": "code",
   "execution_count": 4,
   "id": "214bcbb9-343f-4e42-90c9-7d7c0e70f563",
   "metadata": {},
   "outputs": [],
   "source": [
    "li.insert(1,\"dax\")"
   ]
  },
  {
   "cell_type": "code",
   "execution_count": 5,
   "id": "70224a27-58b7-4950-b782-c395761e6012",
   "metadata": {},
   "outputs": [
    {
     "data": {
      "text/plain": [
       "[1, 'dax', 2, 3]"
      ]
     },
     "execution_count": 5,
     "metadata": {},
     "output_type": "execute_result"
    }
   ],
   "source": [
    "li"
   ]
  },
  {
   "cell_type": "code",
   "execution_count": 6,
   "id": "fd7a740b-3774-4ca8-9ef3-37e6fba90ca4",
   "metadata": {},
   "outputs": [],
   "source": [
    "li.insert(2,[3,4,5])"
   ]
  },
  {
   "cell_type": "code",
   "execution_count": 7,
   "id": "2c334906-ef6b-45ce-9f46-ea0238dce364",
   "metadata": {},
   "outputs": [
    {
     "data": {
      "text/plain": [
       "[1, 'dax', [3, 4, 5], 2, 3]"
      ]
     },
     "execution_count": 7,
     "metadata": {},
     "output_type": "execute_result"
    }
   ],
   "source": [
    "li"
   ]
  },
  {
   "cell_type": "code",
   "execution_count": 8,
   "id": "86b3987b-5c73-4644-a157-32b309965cb4",
   "metadata": {},
   "outputs": [],
   "source": [
    "li.insert(-1,34)"
   ]
  },
  {
   "cell_type": "code",
   "execution_count": 9,
   "id": "d1a6dc28-4c76-4e1e-8b6d-e2d15a1cadb8",
   "metadata": {},
   "outputs": [
    {
     "data": {
      "text/plain": [
       "[1, 'dax', [3, 4, 5], 2, 34, 3]"
      ]
     },
     "execution_count": 9,
     "metadata": {},
     "output_type": "execute_result"
    }
   ],
   "source": [
    "li"
   ]
  },
  {
   "cell_type": "code",
   "execution_count": 11,
   "id": "70c287fd-1fca-4707-aa1a-bdcb0e97af7c",
   "metadata": {},
   "outputs": [
    {
     "data": {
      "text/plain": [
       "3"
      ]
     },
     "execution_count": 11,
     "metadata": {},
     "output_type": "execute_result"
    }
   ],
   "source": [
    "li.pop()"
   ]
  },
  {
   "cell_type": "code",
   "execution_count": 12,
   "id": "28a167bd-3c7a-4e53-96f2-dc7601e95120",
   "metadata": {},
   "outputs": [
    {
     "data": {
      "text/plain": [
       "[1, 'dax', [3, 4, 5], 2, 34]"
      ]
     },
     "execution_count": 12,
     "metadata": {},
     "output_type": "execute_result"
    }
   ],
   "source": [
    "li"
   ]
  },
  {
   "cell_type": "code",
   "execution_count": 13,
   "id": "b3edff4d-fb21-4aab-b397-0162bf98b89d",
   "metadata": {},
   "outputs": [
    {
     "data": {
      "text/plain": [
       "2"
      ]
     },
     "execution_count": 13,
     "metadata": {},
     "output_type": "execute_result"
    }
   ],
   "source": [
    "li.pop(3)"
   ]
  },
  {
   "cell_type": "code",
   "execution_count": 14,
   "id": "7d85a67c-e8d8-478b-b3a3-21ea7f351a34",
   "metadata": {},
   "outputs": [
    {
     "data": {
      "text/plain": [
       "[1, 'dax', [3, 4, 5], 34]"
      ]
     },
     "execution_count": 14,
     "metadata": {},
     "output_type": "execute_result"
    }
   ],
   "source": [
    "li"
   ]
  },
  {
   "cell_type": "code",
   "execution_count": 15,
   "id": "bb445157-9670-4ef2-91e0-b987723b673e",
   "metadata": {},
   "outputs": [],
   "source": [
    "li.remove(34)"
   ]
  },
  {
   "cell_type": "code",
   "execution_count": 16,
   "id": "ee3ee6be-4ece-4f8b-8be5-9e6c5ebef7ad",
   "metadata": {},
   "outputs": [
    {
     "data": {
      "text/plain": [
       "[1, 'dax', [3, 4, 5]]"
      ]
     },
     "execution_count": 16,
     "metadata": {},
     "output_type": "execute_result"
    }
   ],
   "source": [
    "li"
   ]
  },
  {
   "cell_type": "code",
   "execution_count": 17,
   "id": "1a3d53e3-d0a5-4f7c-9cbb-91d026e5be4a",
   "metadata": {},
   "outputs": [
    {
     "ename": "ValueError",
     "evalue": "list.remove(x): x not in list",
     "output_type": "error",
     "traceback": [
      "\u001b[0;31m---------------------------------------------------------------------------\u001b[0m",
      "\u001b[0;31mValueError\u001b[0m                                Traceback (most recent call last)",
      "Cell \u001b[0;32mIn[17], line 1\u001b[0m\n\u001b[0;32m----> 1\u001b[0m \u001b[43mli\u001b[49m\u001b[38;5;241;43m.\u001b[39;49m\u001b[43mremove\u001b[49m\u001b[43m(\u001b[49m\u001b[38;5;241;43m342\u001b[39;49m\u001b[43m)\u001b[49m\n",
      "\u001b[0;31mValueError\u001b[0m: list.remove(x): x not in list"
     ]
    }
   ],
   "source": [
    "li.remove(342)"
   ]
  },
  {
   "cell_type": "code",
   "execution_count": 18,
   "id": "42901825-541f-45c7-9153-f5e6fc72920d",
   "metadata": {},
   "outputs": [],
   "source": [
    "li[2].remove(4)"
   ]
  },
  {
   "cell_type": "code",
   "execution_count": 19,
   "id": "e618f9a6-c68d-4429-9c96-efb313153e64",
   "metadata": {},
   "outputs": [
    {
     "data": {
      "text/plain": [
       "[1, 'dax', [3, 5]]"
      ]
     },
     "execution_count": 19,
     "metadata": {},
     "output_type": "execute_result"
    }
   ],
   "source": [
    "li"
   ]
  },
  {
   "cell_type": "code",
   "execution_count": 24,
   "id": "8e425057-2bad-4026-aebf-a5f9d798c26a",
   "metadata": {},
   "outputs": [],
   "source": [
    "li.reverse()"
   ]
  },
  {
   "cell_type": "code",
   "execution_count": 25,
   "id": "5cdcfb39-4ef1-4980-8fd6-20f63f6a1ab8",
   "metadata": {},
   "outputs": [
    {
     "data": {
      "text/plain": [
       "[[3, 5], 'dax', 1]"
      ]
     },
     "execution_count": 25,
     "metadata": {},
     "output_type": "execute_result"
    }
   ],
   "source": [
    "li"
   ]
  },
  {
   "cell_type": "code",
   "execution_count": 26,
   "id": "15177798-8fed-4613-8d7d-3a67aa71a7fa",
   "metadata": {},
   "outputs": [],
   "source": [
    "l2=[5,9,2,4,0,8,1,2]"
   ]
  },
  {
   "cell_type": "code",
   "execution_count": 27,
   "id": "e7191902-f0f0-495a-afdc-8a9f06c7cd3f",
   "metadata": {},
   "outputs": [],
   "source": [
    "l2.sort()"
   ]
  },
  {
   "cell_type": "code",
   "execution_count": 28,
   "id": "f97593f1-77f4-4235-90bf-4400a5278bc4",
   "metadata": {},
   "outputs": [
    {
     "data": {
      "text/plain": [
       "[0, 1, 2, 2, 4, 5, 8, 9]"
      ]
     },
     "execution_count": 28,
     "metadata": {},
     "output_type": "execute_result"
    }
   ],
   "source": [
    "l2"
   ]
  },
  {
   "cell_type": "code",
   "execution_count": 31,
   "id": "a686e6c9-1ace-4611-be80-ca1440f08698",
   "metadata": {},
   "outputs": [],
   "source": [
    "l3=[\"datascience\",\"machine learning\",\"Artificial intelligence\"]"
   ]
  },
  {
   "cell_type": "code",
   "execution_count": 32,
   "id": "c3b6238a-40e5-46fe-94b3-0626517db179",
   "metadata": {},
   "outputs": [
    {
     "data": {
      "text/plain": [
       "['Artificial intelligence', 'datascience', 'machine learning']"
      ]
     },
     "execution_count": 32,
     "metadata": {},
     "output_type": "execute_result"
    }
   ],
   "source": [
    "l3.sort()\n",
    "l3"
   ]
  },
  {
   "cell_type": "code",
   "execution_count": 34,
   "id": "1d38b66b-d1c7-4165-8d0e-66d809929491",
   "metadata": {},
   "outputs": [
    {
     "ename": "TypeError",
     "evalue": "'<' not supported between instances of 'list' and 'int'",
     "output_type": "error",
     "traceback": [
      "\u001b[0;31m---------------------------------------------------------------------------\u001b[0m",
      "\u001b[0;31mTypeError\u001b[0m                                 Traceback (most recent call last)",
      "Cell \u001b[0;32mIn[34], line 2\u001b[0m\n\u001b[1;32m      1\u001b[0m l4\u001b[38;5;241m=\u001b[39m[\u001b[38;5;241m2\u001b[39m,[\u001b[38;5;241m23\u001b[39m,\u001b[38;5;241m21\u001b[39m,\u001b[38;5;241m98\u001b[39m],\u001b[38;5;241m89\u001b[39m]\n\u001b[0;32m----> 2\u001b[0m \u001b[43ml4\u001b[49m\u001b[38;5;241;43m.\u001b[39;49m\u001b[43msort\u001b[49m\u001b[43m(\u001b[49m\u001b[43m)\u001b[49m\n\u001b[1;32m      3\u001b[0m l4\n",
      "\u001b[0;31mTypeError\u001b[0m: '<' not supported between instances of 'list' and 'int'"
     ]
    }
   ],
   "source": [
    "l4=[2,[23,21,98],89]\n",
    "l4.sort()\n",
    "l4"
   ]
  },
  {
   "cell_type": "code",
   "execution_count": 35,
   "id": "f5628b49-54f6-4d86-90d1-e42728c6e1a0",
   "metadata": {},
   "outputs": [
    {
     "data": {
      "text/plain": [
       "[0, 1, 2, 2, 4, 5, 8, 9]"
      ]
     },
     "execution_count": 35,
     "metadata": {},
     "output_type": "execute_result"
    }
   ],
   "source": [
    "l2"
   ]
  },
  {
   "cell_type": "code",
   "execution_count": 36,
   "id": "e89fbd11-b94f-4cb4-b18f-00cfafcef116",
   "metadata": {},
   "outputs": [
    {
     "data": {
      "text/plain": [
       "[9, 8, 5, 4, 2, 2, 1, 0]"
      ]
     },
     "execution_count": 36,
     "metadata": {},
     "output_type": "execute_result"
    }
   ],
   "source": [
    "l2.sort(reverse=True)\n",
    "l2"
   ]
  },
  {
   "cell_type": "code",
   "execution_count": 38,
   "id": "e60c089f-2e1d-4407-9f2f-b5922efa0177",
   "metadata": {},
   "outputs": [
    {
     "data": {
      "text/plain": [
       "['Artificial intelligence', 'datascience', 'machine learning']"
      ]
     },
     "execution_count": 38,
     "metadata": {},
     "output_type": "execute_result"
    }
   ],
   "source": [
    "l3"
   ]
  },
  {
   "cell_type": "code",
   "execution_count": 40,
   "id": "9ad382a1-0ef5-41f3-90b3-32229b070811",
   "metadata": {},
   "outputs": [
    {
     "data": {
      "text/plain": [
       "1"
      ]
     },
     "execution_count": 40,
     "metadata": {},
     "output_type": "execute_result"
    }
   ],
   "source": [
    "l3.index('datascience')"
   ]
  },
  {
   "cell_type": "code",
   "execution_count": 41,
   "id": "141c20e6-ae66-4ed5-88c8-fc1e5f78f59a",
   "metadata": {},
   "outputs": [
    {
     "data": {
      "text/plain": [
       "[9, 8, 5, 4, 2, 2, 1, 0]"
      ]
     },
     "execution_count": 41,
     "metadata": {},
     "output_type": "execute_result"
    }
   ],
   "source": [
    "l2"
   ]
  },
  {
   "cell_type": "code",
   "execution_count": 42,
   "id": "09db7bb1-4d96-473b-b007-19107d8e2989",
   "metadata": {},
   "outputs": [
    {
     "data": {
      "text/plain": [
       "2"
      ]
     },
     "execution_count": 42,
     "metadata": {},
     "output_type": "execute_result"
    }
   ],
   "source": [
    "l2.count(2)"
   ]
  },
  {
   "cell_type": "code",
   "execution_count": 1,
   "id": "78a74274-d1e8-4c23-91d8-2d2c0e2714f0",
   "metadata": {},
   "outputs": [],
   "source": [
    "s=\"daksh\""
   ]
  },
  {
   "cell_type": "code",
   "execution_count": 2,
   "id": "37c7ad9e-5f02-4eae-869e-441b4961cbbe",
   "metadata": {},
   "outputs": [
    {
     "ename": "TypeError",
     "evalue": "'str' object does not support item assignment",
     "output_type": "error",
     "traceback": [
      "\u001b[0;31m---------------------------------------------------------------------------\u001b[0m",
      "\u001b[0;31mTypeError\u001b[0m                                 Traceback (most recent call last)",
      "Cell \u001b[0;32mIn[2], line 3\u001b[0m\n\u001b[1;32m      1\u001b[0m \u001b[38;5;66;03m#string is immutable\u001b[39;00m\n\u001b[0;32m----> 3\u001b[0m \u001b[43ms\u001b[49m\u001b[43m[\u001b[49m\u001b[38;5;241;43m0\u001b[39;49m\u001b[43m]\u001b[49m\u001b[38;5;241m=\u001b[39m\u001b[38;5;124m'\u001b[39m\u001b[38;5;124ma\u001b[39m\u001b[38;5;124m'\u001b[39m\n",
      "\u001b[0;31mTypeError\u001b[0m: 'str' object does not support item assignment"
     ]
    }
   ],
   "source": [
    "#string is immutable\n",
    "\n",
    "s[0]='a'"
   ]
  },
  {
   "cell_type": "code",
   "execution_count": 3,
   "id": "a4284710-2768-4e1d-9a5c-9013e84c4f73",
   "metadata": {},
   "outputs": [
    {
     "data": {
      "text/plain": [
       "'aaksh'"
      ]
     },
     "execution_count": 3,
     "metadata": {},
     "output_type": "execute_result"
    }
   ],
   "source": [
    "s=\"aaksh\"\n",
    "s"
   ]
  },
  {
   "cell_type": "code",
   "execution_count": 4,
   "id": "aa41048a-db25-45bd-bd71-321764ef0b67",
   "metadata": {},
   "outputs": [
    {
     "data": {
      "text/plain": [
       "'ffksh'"
      ]
     },
     "execution_count": 4,
     "metadata": {},
     "output_type": "execute_result"
    }
   ],
   "source": [
    "s.replace('a','f')"
   ]
  },
  {
   "cell_type": "code",
   "execution_count": 5,
   "id": "d8849132-edc6-4078-8d59-7486e9b5396d",
   "metadata": {},
   "outputs": [
    {
     "data": {
      "text/plain": [
       "'aaksh'"
      ]
     },
     "execution_count": 5,
     "metadata": {},
     "output_type": "execute_result"
    }
   ],
   "source": [
    "s"
   ]
  },
  {
   "cell_type": "code",
   "execution_count": 6,
   "id": "98848c73-f4c7-445b-8b41-f284e45a9ccd",
   "metadata": {},
   "outputs": [],
   "source": [
    "#list is mutable entity\n",
    "\n",
    "l=[1,3,4,2]\n",
    "l[2]=7"
   ]
  },
  {
   "cell_type": "code",
   "execution_count": 7,
   "id": "40aaf94b-814c-4cb3-92fe-5c98eeaaed73",
   "metadata": {},
   "outputs": [
    {
     "data": {
      "text/plain": [
       "[1, 3, 7, 2]"
      ]
     },
     "execution_count": 7,
     "metadata": {},
     "output_type": "execute_result"
    }
   ],
   "source": [
    "l"
   ]
  },
  {
   "cell_type": "code",
   "execution_count": 9,
   "id": "79e87dd0-d13a-4847-9dc6-a28f63d90ca3",
   "metadata": {},
   "outputs": [],
   "source": [
    "t=(3,1,\"dax\",False,34.32,9+8j)"
   ]
  },
  {
   "cell_type": "code",
   "execution_count": 10,
   "id": "c6d5cc23-8758-4c6f-b748-902a45d44c2d",
   "metadata": {},
   "outputs": [
    {
     "data": {
      "text/plain": [
       "(3, 1, 'dax', False, 34.32, (9+8j))"
      ]
     },
     "execution_count": 10,
     "metadata": {},
     "output_type": "execute_result"
    }
   ],
   "source": [
    "t"
   ]
  },
  {
   "cell_type": "code",
   "execution_count": 11,
   "id": "3a7c04d5-a6af-4322-a3a5-88717334b5e8",
   "metadata": {},
   "outputs": [
    {
     "data": {
      "text/plain": [
       "'dax'"
      ]
     },
     "execution_count": 11,
     "metadata": {},
     "output_type": "execute_result"
    }
   ],
   "source": [
    "t[2]"
   ]
  },
  {
   "cell_type": "code",
   "execution_count": 12,
   "id": "9135c5f4-a12c-42e4-aa37-e63414fccb52",
   "metadata": {},
   "outputs": [
    {
     "data": {
      "text/plain": [
       "((9+8j), 34.32, False, 'dax', 1, 3)"
      ]
     },
     "execution_count": 12,
     "metadata": {},
     "output_type": "execute_result"
    }
   ],
   "source": [
    "t[::-1]"
   ]
  },
  {
   "cell_type": "code",
   "execution_count": 13,
   "id": "f80d55f3-a25f-4d43-91e6-c9539a1044fd",
   "metadata": {},
   "outputs": [
    {
     "ename": "TypeError",
     "evalue": "'tuple' object does not support item assignment",
     "output_type": "error",
     "traceback": [
      "\u001b[0;31m---------------------------------------------------------------------------\u001b[0m",
      "\u001b[0;31mTypeError\u001b[0m                                 Traceback (most recent call last)",
      "Cell \u001b[0;32mIn[13], line 3\u001b[0m\n\u001b[1;32m      1\u001b[0m \u001b[38;5;66;03m#tuple is immutable entity\u001b[39;00m\n\u001b[0;32m----> 3\u001b[0m \u001b[43mt\u001b[49m\u001b[43m[\u001b[49m\u001b[38;5;241;43m0\u001b[39;49m\u001b[43m]\u001b[49m\u001b[38;5;241m=\u001b[39m\u001b[38;5;124m\"\u001b[39m\u001b[38;5;124msani\u001b[39m\u001b[38;5;124m\"\u001b[39m\n",
      "\u001b[0;31mTypeError\u001b[0m: 'tuple' object does not support item assignment"
     ]
    }
   ],
   "source": [
    "#tuple is immutable entity\n",
    "\n",
    "t[0]=\"sani\""
   ]
  },
  {
   "cell_type": "code",
   "execution_count": 16,
   "id": "2ae140d6-1a04-4c99-a04d-a1d2d9c71889",
   "metadata": {},
   "outputs": [
    {
     "data": {
      "text/plain": [
       "(3, 1, 'dax', False, 34.32, (9+8j))"
      ]
     },
     "execution_count": 16,
     "metadata": {},
     "output_type": "execute_result"
    }
   ],
   "source": [
    "t"
   ]
  },
  {
   "cell_type": "code",
   "execution_count": 17,
   "id": "1d6ef289-5a2a-4432-bdea-8dcf5678d949",
   "metadata": {},
   "outputs": [
    {
     "data": {
      "text/plain": [
       "0"
      ]
     },
     "execution_count": 17,
     "metadata": {},
     "output_type": "execute_result"
    }
   ],
   "source": [
    "t.index(3)"
   ]
  },
  {
   "cell_type": "code",
   "execution_count": 19,
   "id": "644924da-1ddd-4ee7-925d-74d2f43eb153",
   "metadata": {},
   "outputs": [
    {
     "data": {
      "text/plain": [
       "1"
      ]
     },
     "execution_count": 19,
     "metadata": {},
     "output_type": "execute_result"
    }
   ],
   "source": [
    "t.count(34.32)"
   ]
  },
  {
   "cell_type": "code",
   "execution_count": 20,
   "id": "b34178d1-2df7-4b34-9d0b-3ec08ee4fc2f",
   "metadata": {},
   "outputs": [],
   "source": [
    "s={}"
   ]
  },
  {
   "cell_type": "code",
   "execution_count": 21,
   "id": "ec3c7f48-d985-477f-a234-ee2a764daae5",
   "metadata": {},
   "outputs": [
    {
     "data": {
      "text/plain": [
       "dict"
      ]
     },
     "execution_count": 21,
     "metadata": {},
     "output_type": "execute_result"
    }
   ],
   "source": [
    "type(s)"
   ]
  },
  {
   "cell_type": "code",
   "execution_count": 22,
   "id": "5adf7b8c-3507-4869-aad3-604cba54e91d",
   "metadata": {},
   "outputs": [
    {
     "data": {
      "text/plain": [
       "set"
      ]
     },
     "execution_count": 22,
     "metadata": {},
     "output_type": "execute_result"
    }
   ],
   "source": [
    "s1={1,2,3,4,55}\n",
    "type(s1)"
   ]
  },
  {
   "cell_type": "code",
   "execution_count": 23,
   "id": "4706bd5b-9cc5-454c-85e7-cf5ac172de51",
   "metadata": {},
   "outputs": [
    {
     "ename": "TypeError",
     "evalue": "unhashable type: 'list'",
     "output_type": "error",
     "traceback": [
      "\u001b[0;31m---------------------------------------------------------------------------\u001b[0m",
      "\u001b[0;31mTypeError\u001b[0m                                 Traceback (most recent call last)",
      "Cell \u001b[0;32mIn[23], line 1\u001b[0m\n\u001b[0;32m----> 1\u001b[0m s2\u001b[38;5;241m=\u001b[39m{\u001b[38;5;241m1\u001b[39m,\u001b[38;5;124m\"\u001b[39m\u001b[38;5;124mdax\u001b[39m\u001b[38;5;124m\"\u001b[39m,\u001b[38;5;241m98.34\u001b[39m,[\u001b[38;5;241m23\u001b[39m,\u001b[38;5;241m54\u001b[39m],(\u001b[38;5;241m8\u001b[39m,\u001b[38;5;241m7\u001b[39m)}\n",
      "\u001b[0;31mTypeError\u001b[0m: unhashable type: 'list'"
     ]
    }
   ],
   "source": [
    "s2={1,\"dax\",98.34,[23,54],(8,7)}"
   ]
  },
  {
   "cell_type": "code",
   "execution_count": 25,
   "id": "eb106a90-cade-4649-96ed-8a6cf4c82bcc",
   "metadata": {},
   "outputs": [],
   "source": [
    "s2={1,1,\"dax\",98.34}"
   ]
  },
  {
   "cell_type": "code",
   "execution_count": 26,
   "id": "476d77fd-e2ff-4098-acd8-d2a33e868437",
   "metadata": {},
   "outputs": [
    {
     "data": {
      "text/plain": [
       "{1, 98.34, 'dax'}"
      ]
     },
     "execution_count": 26,
     "metadata": {},
     "output_type": "execute_result"
    }
   ],
   "source": [
    "s2"
   ]
  },
  {
   "cell_type": "code",
   "execution_count": 27,
   "id": "8863c0a4-e920-4fc4-8855-a5457c7877a3",
   "metadata": {},
   "outputs": [],
   "source": [
    "tu=(3,5,[2,3,4])"
   ]
  },
  {
   "cell_type": "code",
   "execution_count": 28,
   "id": "55bed44c-30ed-46fc-883d-23e642a00bca",
   "metadata": {},
   "outputs": [
    {
     "data": {
      "text/plain": [
       "4"
      ]
     },
     "execution_count": 28,
     "metadata": {},
     "output_type": "execute_result"
    }
   ],
   "source": [
    "tu[2].pop()"
   ]
  },
  {
   "cell_type": "code",
   "execution_count": 29,
   "id": "37d753c0-fcae-4c00-a9c9-0d809ed0135c",
   "metadata": {},
   "outputs": [
    {
     "data": {
      "text/plain": [
       "(3, 5, [2, 3])"
      ]
     },
     "execution_count": 29,
     "metadata": {},
     "output_type": "execute_result"
    }
   ],
   "source": [
    "tu"
   ]
  },
  {
   "cell_type": "code",
   "execution_count": 30,
   "id": "4fba22b2-0949-4cd1-bf41-6273c51930fa",
   "metadata": {},
   "outputs": [
    {
     "ename": "TypeError",
     "evalue": "'tuple' object does not support item assignment",
     "output_type": "error",
     "traceback": [
      "\u001b[0;31m---------------------------------------------------------------------------\u001b[0m",
      "\u001b[0;31mTypeError\u001b[0m                                 Traceback (most recent call last)",
      "Cell \u001b[0;32mIn[30], line 1\u001b[0m\n\u001b[0;32m----> 1\u001b[0m \u001b[43mtu\u001b[49m\u001b[43m[\u001b[49m\u001b[38;5;241;43m2\u001b[39;49m\u001b[43m]\u001b[49m\u001b[38;5;241m=\u001b[39m\u001b[38;5;124m\"\u001b[39m\u001b[38;5;124mski\u001b[39m\u001b[38;5;124m\"\u001b[39m\n",
      "\u001b[0;31mTypeError\u001b[0m: 'tuple' object does not support item assignment"
     ]
    }
   ],
   "source": [
    "tu[2]=\"ski\""
   ]
  },
  {
   "cell_type": "code",
   "execution_count": 31,
   "id": "f834e85a-5544-4ec9-9504-3026529a48d3",
   "metadata": {},
   "outputs": [],
   "source": [
    "l=[1,2,3,3,3,2,1,2,1,3,4,4,4,4,\"dax\",98.67]"
   ]
  },
  {
   "cell_type": "code",
   "execution_count": 32,
   "id": "44710dcf-e1c4-43e1-96d0-2ca7a9e3391a",
   "metadata": {},
   "outputs": [
    {
     "data": {
      "text/plain": [
       "{1, 2, 3, 4, 98.67, 'dax'}"
      ]
     },
     "execution_count": 32,
     "metadata": {},
     "output_type": "execute_result"
    }
   ],
   "source": [
    "set(l)"
   ]
  },
  {
   "cell_type": "code",
   "execution_count": 35,
   "id": "d4753722-1204-45ad-b474-2ffb5dbee3aa",
   "metadata": {},
   "outputs": [],
   "source": [
    "l=list(set(l))"
   ]
  },
  {
   "cell_type": "code",
   "execution_count": 36,
   "id": "3f77c8a5-c575-4d68-845d-6d198d5eec4b",
   "metadata": {},
   "outputs": [
    {
     "data": {
      "text/plain": [
       "[1, 2, 3, 4, 98.67, 'dax']"
      ]
     },
     "execution_count": 36,
     "metadata": {},
     "output_type": "execute_result"
    }
   ],
   "source": [
    "l"
   ]
  },
  {
   "cell_type": "code",
   "execution_count": 37,
   "id": "f97e6fb6-88fa-486e-bf50-89dad3b77f9b",
   "metadata": {},
   "outputs": [],
   "source": [
    "s={1,2,3,4,5}"
   ]
  },
  {
   "cell_type": "code",
   "execution_count": 38,
   "id": "39d5a733-d6e2-4f11-8bcf-393b7b641337",
   "metadata": {},
   "outputs": [
    {
     "data": {
      "text/plain": [
       "{1, 2, 3, 4, 5}"
      ]
     },
     "execution_count": 38,
     "metadata": {},
     "output_type": "execute_result"
    }
   ],
   "source": [
    "s"
   ]
  },
  {
   "cell_type": "code",
   "execution_count": 39,
   "id": "e4edaa91-3bf0-47f0-bce4-50c20cba73e2",
   "metadata": {
    "tags": []
   },
   "outputs": [
    {
     "ename": "TypeError",
     "evalue": "'set' object is not subscriptable",
     "output_type": "error",
     "traceback": [
      "\u001b[0;31m---------------------------------------------------------------------------\u001b[0m",
      "\u001b[0;31mTypeError\u001b[0m                                 Traceback (most recent call last)",
      "Cell \u001b[0;32mIn[39], line 1\u001b[0m\n\u001b[0;32m----> 1\u001b[0m \u001b[43ms\u001b[49m\u001b[43m[\u001b[49m\u001b[38;5;241;43m0\u001b[39;49m\u001b[43m]\u001b[49m\n",
      "\u001b[0;31mTypeError\u001b[0m: 'set' object is not subscriptable"
     ]
    }
   ],
   "source": [
    "s[0]"
   ]
  },
  {
   "cell_type": "code",
   "execution_count": 40,
   "id": "182ab984-3598-4e4f-8955-481f7db2e96b",
   "metadata": {
    "tags": []
   },
   "outputs": [
    {
     "ename": "TypeError",
     "evalue": "'set' object is not subscriptable",
     "output_type": "error",
     "traceback": [
      "\u001b[0;31m---------------------------------------------------------------------------\u001b[0m",
      "\u001b[0;31mTypeError\u001b[0m                                 Traceback (most recent call last)",
      "Cell \u001b[0;32mIn[40], line 1\u001b[0m\n\u001b[0;32m----> 1\u001b[0m \u001b[43ms\u001b[49m\u001b[43m[\u001b[49m\u001b[38;5;241;43m0\u001b[39;49m\u001b[43m:\u001b[49m\u001b[38;5;241;43m8\u001b[39;49m\u001b[43m]\u001b[49m\n",
      "\u001b[0;31mTypeError\u001b[0m: 'set' object is not subscriptable"
     ]
    }
   ],
   "source": [
    "s[0:8]"
   ]
  },
  {
   "cell_type": "code",
   "execution_count": 41,
   "id": "608e4a70-43b8-4fd5-b0a1-86b6a0f9b4d2",
   "metadata": {},
   "outputs": [],
   "source": [
    "s.add(8)"
   ]
  },
  {
   "cell_type": "code",
   "execution_count": 42,
   "id": "8b8c5fd8-64fc-40e0-b6be-68f07c14fa35",
   "metadata": {},
   "outputs": [
    {
     "data": {
      "text/plain": [
       "{1, 2, 3, 4, 5, 8}"
      ]
     },
     "execution_count": 42,
     "metadata": {},
     "output_type": "execute_result"
    }
   ],
   "source": [
    "s"
   ]
  },
  {
   "cell_type": "code",
   "execution_count": 43,
   "id": "ef0eb1db-c482-4b43-9587-e6f21b1d5d36",
   "metadata": {},
   "outputs": [],
   "source": [
    "s.remove(4)"
   ]
  },
  {
   "cell_type": "code",
   "execution_count": 44,
   "id": "5367ef32-2286-4083-960b-3b2b7e01bf33",
   "metadata": {},
   "outputs": [
    {
     "data": {
      "text/plain": [
       "{1, 2, 3, 5, 8}"
      ]
     },
     "execution_count": 44,
     "metadata": {},
     "output_type": "execute_result"
    }
   ],
   "source": [
    "s"
   ]
  },
  {
   "cell_type": "code",
   "execution_count": 1,
   "id": "5d8acf6e-0c6d-4e5b-8009-c89008b1b48e",
   "metadata": {},
   "outputs": [],
   "source": [
    "d={}"
   ]
  },
  {
   "cell_type": "code",
   "execution_count": 2,
   "id": "aeac225e-553c-4f7d-a933-ca9aa9cca7ba",
   "metadata": {},
   "outputs": [
    {
     "data": {
      "text/plain": [
       "dict"
      ]
     },
     "execution_count": 2,
     "metadata": {},
     "output_type": "execute_result"
    }
   ],
   "source": [
    "type(d)"
   ]
  },
  {
   "cell_type": "code",
   "execution_count": 5,
   "id": "fc230afe-cc8b-4a1d-bd75-e70e15636ce0",
   "metadata": {},
   "outputs": [],
   "source": [
    "d1={'name':'daksh',\n",
    "    'email':'abc@gmail.com',\n",
    "    'phone':'34242423'}"
   ]
  },
  {
   "cell_type": "code",
   "execution_count": 6,
   "id": "c2f5f68f-5faf-4c53-a2f8-e103b19df9f2",
   "metadata": {},
   "outputs": [
    {
     "data": {
      "text/plain": [
       "{'name': 'daksh', 'email': 'abc@gmail.com', 'phone': '34242423'}"
      ]
     },
     "execution_count": 6,
     "metadata": {},
     "output_type": "execute_result"
    }
   ],
   "source": [
    "d1"
   ]
  },
  {
   "cell_type": "code",
   "execution_count": 7,
   "id": "288ab2b8-fabb-4cc6-8b99-9555e55f724b",
   "metadata": {},
   "outputs": [],
   "source": [
    "d2={123:\"kjh\"}"
   ]
  },
  {
   "cell_type": "code",
   "execution_count": 8,
   "id": "48802b78-2df8-460c-822d-b2b4b320844e",
   "metadata": {},
   "outputs": [
    {
     "data": {
      "text/plain": [
       "{123: 'kjh'}"
      ]
     },
     "execution_count": 8,
     "metadata": {},
     "output_type": "execute_result"
    }
   ],
   "source": [
    "d2"
   ]
  },
  {
   "cell_type": "code",
   "execution_count": 9,
   "id": "cf89c6c2-9b7b-4e58-a827-9152f2cb1e6f",
   "metadata": {},
   "outputs": [
    {
     "ename": "SyntaxError",
     "evalue": "invalid syntax (1801203688.py, line 1)",
     "output_type": "error",
     "traceback": [
      "\u001b[0;36m  Cell \u001b[0;32mIn[9], line 1\u001b[0;36m\u001b[0m\n\u001b[0;31m    d3={@:9}\u001b[0m\n\u001b[0m        ^\u001b[0m\n\u001b[0;31mSyntaxError\u001b[0m\u001b[0;31m:\u001b[0m invalid syntax\n"
     ]
    }
   ],
   "source": [
    "d3={@:9}"
   ]
  },
  {
   "cell_type": "code",
   "execution_count": 10,
   "id": "677c82b1-540e-46c4-a67a-6e50310f590d",
   "metadata": {},
   "outputs": [],
   "source": [
    "d4={True:1}"
   ]
  },
  {
   "cell_type": "code",
   "execution_count": 11,
   "id": "0aa66173-e6e6-4bd6-9412-39e9b1a33af6",
   "metadata": {},
   "outputs": [
    {
     "data": {
      "text/plain": [
       "{True: 1}"
      ]
     },
     "execution_count": 11,
     "metadata": {},
     "output_type": "execute_result"
    }
   ],
   "source": [
    "d4"
   ]
  },
  {
   "cell_type": "code",
   "execution_count": 12,
   "id": "119eff9f-6ac9-481a-9ca4-6320977a8c88",
   "metadata": {},
   "outputs": [
    {
     "data": {
      "text/plain": [
       "{'name': 'daksh', 'email': 'abc@gmail.com', 'phone': '34242423'}"
      ]
     },
     "execution_count": 12,
     "metadata": {},
     "output_type": "execute_result"
    }
   ],
   "source": [
    "d1"
   ]
  },
  {
   "cell_type": "code",
   "execution_count": 13,
   "id": "35cbe4d9-9246-4434-bc38-654d34b85232",
   "metadata": {},
   "outputs": [
    {
     "data": {
      "text/plain": [
       "'daksh'"
      ]
     },
     "execution_count": 13,
     "metadata": {},
     "output_type": "execute_result"
    }
   ],
   "source": [
    "d1['name']"
   ]
  },
  {
   "cell_type": "code",
   "execution_count": 15,
   "id": "6cbd51d9-ab53-4de7-8454-a485477102a3",
   "metadata": {},
   "outputs": [
    {
     "data": {
      "text/plain": [
       "1"
      ]
     },
     "execution_count": 15,
     "metadata": {},
     "output_type": "execute_result"
    }
   ],
   "source": [
    "d4[True]"
   ]
  },
  {
   "cell_type": "code",
   "execution_count": 16,
   "id": "c039d794-0d48-41e7-98cd-a69fdc69904d",
   "metadata": {},
   "outputs": [],
   "source": [
    "d5={1:'d',2:'e',1:'w'}"
   ]
  },
  {
   "cell_type": "code",
   "execution_count": 17,
   "id": "c909e58b-5283-4f10-9665-ca7408d11d44",
   "metadata": {},
   "outputs": [
    {
     "data": {
      "text/plain": [
       "'w'"
      ]
     },
     "execution_count": 17,
     "metadata": {},
     "output_type": "execute_result"
    }
   ],
   "source": [
    "d5[1]"
   ]
  },
  {
   "cell_type": "code",
   "execution_count": 18,
   "id": "27457fef-837b-4721-87e5-9c6ae515d2e6",
   "metadata": {},
   "outputs": [],
   "source": [
    "dict={'company':'pwskills','course':['web dev','datascience','java with dsa']}"
   ]
  },
  {
   "cell_type": "code",
   "execution_count": 19,
   "id": "33b5bd30-70df-4380-9eb2-6333f9252e9d",
   "metadata": {},
   "outputs": [
    {
     "data": {
      "text/plain": [
       "{'company': 'pwskills', 'course': ['web dev', 'datascience', 'java with dsa']}"
      ]
     },
     "execution_count": 19,
     "metadata": {},
     "output_type": "execute_result"
    }
   ],
   "source": [
    "dict"
   ]
  },
  {
   "cell_type": "code",
   "execution_count": 20,
   "id": "c752dd53-3ccf-4249-a1d2-7df66924a57f",
   "metadata": {},
   "outputs": [
    {
     "data": {
      "text/plain": [
       "'pwskills'"
      ]
     },
     "execution_count": 20,
     "metadata": {},
     "output_type": "execute_result"
    }
   ],
   "source": [
    "dict['company']"
   ]
  },
  {
   "cell_type": "code",
   "execution_count": 22,
   "id": "4bbc7233-0a80-45ca-a8a9-a54b8dfee589",
   "metadata": {},
   "outputs": [
    {
     "data": {
      "text/plain": [
       "['web dev', 'datascience', 'java with dsa']"
      ]
     },
     "execution_count": 22,
     "metadata": {},
     "output_type": "execute_result"
    }
   ],
   "source": [
    "dict['course']"
   ]
  },
  {
   "cell_type": "code",
   "execution_count": 23,
   "id": "fdfefe78-a046-4b0b-94ff-0276e953629b",
   "metadata": {},
   "outputs": [],
   "source": [
    "dt2={'numbers':[32,56,43],'assignments':(1,2,3,4,5),'class_timing':{'web_dev':3,'data_sc':5,'c++':7}}"
   ]
  },
  {
   "cell_type": "code",
   "execution_count": 24,
   "id": "07d920a8-edf9-4acf-829b-8d66c12477ce",
   "metadata": {},
   "outputs": [
    {
     "data": {
      "text/plain": [
       "{'numbers': [32, 56, 43],\n",
       " 'assignments': (1, 2, 3, 4, 5),\n",
       " 'class_timing': {'web_dev': 3, 'data_sc': 5, 'c++': 7}}"
      ]
     },
     "execution_count": 24,
     "metadata": {},
     "output_type": "execute_result"
    }
   ],
   "source": [
    "dt2"
   ]
  },
  {
   "cell_type": "code",
   "execution_count": 25,
   "id": "891c1625-7414-4056-ab9f-08b21d5fe9ae",
   "metadata": {},
   "outputs": [
    {
     "data": {
      "text/plain": [
       "7"
      ]
     },
     "execution_count": 25,
     "metadata": {},
     "output_type": "execute_result"
    }
   ],
   "source": [
    "dt2['class_timing']['c++']"
   ]
  },
  {
   "cell_type": "code",
   "execution_count": 26,
   "id": "e115a9e9-aa50-4e24-84d5-36ac34e73709",
   "metadata": {},
   "outputs": [],
   "source": [
    "#adding new key\n",
    "dt2['mentor']=['daksh','sani','om']"
   ]
  },
  {
   "cell_type": "code",
   "execution_count": 27,
   "id": "b7ec509e-2d39-4b2d-bfee-8c1d8b9ebf30",
   "metadata": {},
   "outputs": [
    {
     "data": {
      "text/plain": [
       "{'numbers': [32, 56, 43],\n",
       " 'assignments': (1, 2, 3, 4, 5),\n",
       " 'class_timing': {'web_dev': 3, 'data_sc': 5, 'c++': 7},\n",
       " 'mentor': ['daksh', 'sani', 'om']}"
      ]
     },
     "execution_count": 27,
     "metadata": {},
     "output_type": "execute_result"
    }
   ],
   "source": [
    "dt2"
   ]
  },
  {
   "cell_type": "code",
   "execution_count": 29,
   "id": "cee4148c-863e-492a-aa6e-c65065cb262f",
   "metadata": {},
   "outputs": [],
   "source": [
    "del dt2['numbers']"
   ]
  },
  {
   "cell_type": "code",
   "execution_count": 30,
   "id": "2e5fd37a-6943-40bb-badb-0f1c980badc9",
   "metadata": {},
   "outputs": [
    {
     "data": {
      "text/plain": [
       "{'assignments': (1, 2, 3, 4, 5),\n",
       " 'class_timing': {'web_dev': 3, 'data_sc': 5, 'c++': 7},\n",
       " 'mentor': ['daksh', 'sani', 'om']}"
      ]
     },
     "execution_count": 30,
     "metadata": {},
     "output_type": "execute_result"
    }
   ],
   "source": [
    "dt2"
   ]
  },
  {
   "cell_type": "code",
   "execution_count": 31,
   "id": "32e08174-47c6-45d5-8039-6cb2878d5138",
   "metadata": {},
   "outputs": [
    {
     "data": {
      "text/plain": [
       "dict_keys(['assignments', 'class_timing', 'mentor'])"
      ]
     },
     "execution_count": 31,
     "metadata": {},
     "output_type": "execute_result"
    }
   ],
   "source": [
    "dt2.keys()"
   ]
  },
  {
   "cell_type": "code",
   "execution_count": 32,
   "id": "00e7914f-bbfc-4e30-ac19-7616f2338412",
   "metadata": {},
   "outputs": [
    {
     "data": {
      "text/plain": [
       "dict_items([('assignments', (1, 2, 3, 4, 5)), ('class_timing', {'web_dev': 3, 'data_sc': 5, 'c++': 7}), ('mentor', ['daksh', 'sani', 'om'])])"
      ]
     },
     "execution_count": 32,
     "metadata": {},
     "output_type": "execute_result"
    }
   ],
   "source": [
    "dt2.items()"
   ]
  },
  {
   "cell_type": "code",
   "execution_count": 33,
   "id": "5448d19b-794e-468f-87a5-3b1a6e6721a8",
   "metadata": {},
   "outputs": [
    {
     "data": {
      "text/plain": [
       "dict_values([(1, 2, 3, 4, 5), {'web_dev': 3, 'data_sc': 5, 'c++': 7}, ['daksh', 'sani', 'om']])"
      ]
     },
     "execution_count": 33,
     "metadata": {},
     "output_type": "execute_result"
    }
   ],
   "source": [
    "dt2.values()"
   ]
  },
  {
   "cell_type": "code",
   "execution_count": 34,
   "id": "f4a4feae-a506-4aac-bc51-24ed56491401",
   "metadata": {},
   "outputs": [
    {
     "data": {
      "text/plain": [
       "[('assignments', (1, 2, 3, 4, 5)),\n",
       " ('class_timing', {'web_dev': 3, 'data_sc': 5, 'c++': 7}),\n",
       " ('mentor', ['daksh', 'sani', 'om'])]"
      ]
     },
     "execution_count": 34,
     "metadata": {},
     "output_type": "execute_result"
    }
   ],
   "source": [
    "list(dt2.items())"
   ]
  },
  {
   "cell_type": "code",
   "execution_count": 35,
   "id": "2adbb6bb-4d80-42f5-a7be-8db7e44a78c8",
   "metadata": {},
   "outputs": [
    {
     "data": {
      "text/plain": [
       "{'assignments': (1, 2, 3, 4, 5),\n",
       " 'class_timing': {'web_dev': 3, 'data_sc': 5, 'c++': 7},\n",
       " 'mentor': ['daksh', 'sani', 'om']}"
      ]
     },
     "execution_count": 35,
     "metadata": {},
     "output_type": "execute_result"
    }
   ],
   "source": [
    "dt2"
   ]
  },
  {
   "cell_type": "code",
   "execution_count": 36,
   "id": "6e925565-2f6b-4e34-91f7-270f120e18a5",
   "metadata": {},
   "outputs": [
    {
     "data": {
      "text/plain": [
       "(1, 2, 3, 4, 5)"
      ]
     },
     "execution_count": 36,
     "metadata": {},
     "output_type": "execute_result"
    }
   ],
   "source": [
    "dt2.pop('assignments')"
   ]
  },
  {
   "cell_type": "code",
   "execution_count": 37,
   "id": "370e5e73-50f4-4f72-adac-d7ce585caa9e",
   "metadata": {},
   "outputs": [
    {
     "data": {
      "text/plain": [
       "{'class_timing': {'web_dev': 3, 'data_sc': 5, 'c++': 7},\n",
       " 'mentor': ['daksh', 'sani', 'om']}"
      ]
     },
     "execution_count": 37,
     "metadata": {},
     "output_type": "execute_result"
    }
   ],
   "source": [
    "dt2"
   ]
  },
  {
   "cell_type": "code",
   "execution_count": null,
   "id": "e2f8862d-5ad1-494a-869b-a7a86eede7e5",
   "metadata": {},
   "outputs": [],
   "source": []
  }
 ],
 "metadata": {
  "kernelspec": {
   "display_name": "Python 3 (ipykernel)",
   "language": "python",
   "name": "python3"
  },
  "language_info": {
   "codemirror_mode": {
    "name": "ipython",
    "version": 3
   },
   "file_extension": ".py",
   "mimetype": "text/x-python",
   "name": "python",
   "nbconvert_exporter": "python",
   "pygments_lexer": "ipython3",
   "version": "3.10.8"
  }
 },
 "nbformat": 4,
 "nbformat_minor": 5
}
