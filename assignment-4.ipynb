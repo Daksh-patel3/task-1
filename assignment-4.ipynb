{
 "cells": [
  {
   "cell_type": "code",
   "execution_count": 2,
   "id": "8bef34b8-b78b-42ea-be19-6dd21ff04180",
   "metadata": {},
   "outputs": [
    {
     "data": {
      "text/plain": [
       "[1, 3, 5, 7, 9, 11, 13, 15, 17, 19, 21, 23, 25]"
      ]
     },
     "execution_count": 2,
     "metadata": {},
     "output_type": "execute_result"
    }
   ],
   "source": [
    "#q1\n",
    "\"\"\"To create a function :def keyword is used.\"\"\"\n",
    "def test_odd():\n",
    "    return list(range(1,26,2))\n",
    "\n",
    "test_odd()"
   ]
  },
  {
   "cell_type": "code",
   "execution_count": 5,
   "id": "b0e44258-65df-4087-8eca-3820b7f115f0",
   "metadata": {},
   "outputs": [
    {
     "name": "stdout",
     "output_type": "stream",
     "text": [
      "1)*args\n",
      "(1, 2, 3, 4)\n",
      "\n",
      "2)**args\n",
      "{'a': 1, 'b': 8, 'c': 9, 'd': 4}\n"
     ]
    }
   ],
   "source": [
    "#q2\n",
    "\"\"\" *args used to give optional arguments as tuple.where **args is used\n",
    "     to give optional arguments as dictionary\"\"\"\n",
    "print(\"1)*args\")\n",
    "\n",
    "def test(*args):\n",
    "    return args\n",
    "\n",
    "print(test(1,2,3,4))\n",
    "\n",
    "print(\"\")\n",
    "\n",
    "print(\"2)**args\")\n",
    "\n",
    "def test2(**args):\n",
    "    return args\n",
    "print(test2(a=1,b=8,c=9,d=4))"
   ]
  },
  {
   "cell_type": "code",
   "execution_count": 6,
   "id": "686727eb-5764-422f-b492-5cede62e7cc1",
   "metadata": {},
   "outputs": [
    {
     "name": "stdout",
     "output_type": "stream",
     "text": [
      "2\n",
      "4\n",
      "6\n",
      "8\n",
      "10\n"
     ]
    }
   ],
   "source": [
    "#q3\n",
    "\"\"\"iterator is a object in which element can be extracted one by one sequentially.\n",
    "    iter() method is used to intialize iterator and next() method is used for iteration\"\"\"\n",
    "l=[2,4,6,8,10,12,14,16,18,20]\n",
    "\n",
    "x=iter(l)\n",
    "for i in range(5):\n",
    "    print(next(x))"
   ]
  },
  {
   "cell_type": "code",
   "execution_count": 8,
   "id": "95d73af9-639b-4081-b2ad-8fa4606454c9",
   "metadata": {},
   "outputs": [
    {
     "name": "stdout",
     "output_type": "stream",
     "text": [
      "[0, 1, 2, 3, 4, 5, 6, 7, 8, 9]\n"
     ]
    }
   ],
   "source": [
    "#q4\n",
    "\"\"\"Generator function is generate the data but can't return the value.To extract data\n",
    "   from generator function we can use list,for loop.yield is keyword used in generator\n",
    "   function which is used to generate on by one value\"\"\"\n",
    "\n",
    "def test():\n",
    "    for i in range(10):\n",
    "        yield i\n",
    "print(list(test()))"
   ]
  },
  {
   "cell_type": "code",
   "execution_count": 22,
   "id": "947d5e77-7a01-420a-a104-47cd303e8366",
   "metadata": {},
   "outputs": [
    {
     "name": "stdout",
     "output_type": "stream",
     "text": [
      "2 3 5 7 11 13 17 19 23 29 31 37 41 43 47 53 59 61 67 71 "
     ]
    }
   ],
   "source": [
    "#q5\n",
    "def test_prime():\n",
    "    num=2\n",
    "    counter=0\n",
    "    while num<=1000:\n",
    "        counter=0\n",
    "        for i in range(2,num):\n",
    "            if num%i==0:\n",
    "                counter+=1\n",
    "                break\n",
    "        if counter==0:\n",
    "            yield num\n",
    "        num+=1\n",
    "prime=test_prime()\n",
    "\n",
    "for i in range(20):\n",
    "    print(next(prime),end=\" \")\n",
    "    \n",
    "                "
   ]
  },
  {
   "cell_type": "code",
   "execution_count": 23,
   "id": "c4e8565b-4077-4e76-9b50-978234fe5199",
   "metadata": {},
   "outputs": [
    {
     "name": "stdout",
     "output_type": "stream",
     "text": [
      "0 1 1 2 3 5 8 13 21 34 "
     ]
    }
   ],
   "source": [
    "#q6\n",
    "\n",
    "def test_fib():\n",
    "    a,b=0,1\n",
    "    num=1\n",
    "    \n",
    "    while num<=10:\n",
    "        yield a\n",
    "        a,b=b,a+b\n",
    "        num+=1\n",
    "for i in test_fib():\n",
    "    print(i,end=\" \")"
   ]
  },
  {
   "cell_type": "code",
   "execution_count": 24,
   "id": "8ab0bb74-626a-4b8e-a992-289ce81319a5",
   "metadata": {},
   "outputs": [
    {
     "name": "stdout",
     "output_type": "stream",
     "text": [
      "['p', 'w', 's', 'k', 'i', 'l', 'l', 's']\n"
     ]
    }
   ],
   "source": [
    "#q7\n",
    "\n",
    "s=\"pwskills\"\n",
    "\n",
    "l=[i for i in s]\n",
    "print(l)"
   ]
  },
  {
   "cell_type": "code",
   "execution_count": 32,
   "id": "c51d7fd0-30ac-4324-aba2-0d68a88678a8",
   "metadata": {},
   "outputs": [
    {
     "name": "stdin",
     "output_type": "stream",
     "text": [
      "Enter a number: 101\n"
     ]
    },
    {
     "name": "stdout",
     "output_type": "stream",
     "text": [
      "number is pelindrome\n"
     ]
    }
   ],
   "source": [
    "#q8\n",
    "num=input(\"Enter a number:\")\n",
    "count=1\n",
    "i=0\n",
    "j=len(num)-1\n",
    "if len(num)%2==0:\n",
    "    a=len(num)/2\n",
    "else:\n",
    "    a=(len(num)-1)/2\n",
    "\n",
    "    \n",
    "while count<=a:\n",
    "    if num[i]==num[j]:\n",
    "        i+=1\n",
    "        j-=1\n",
    "    else:\n",
    "        print(\"no is not a pelindrome\")\n",
    "        break\n",
    "    count+=1\n",
    "if i==a:\n",
    "    print(\"number is pelindrome\")\n",
    "\n",
    "\n",
    "        \n"
   ]
  },
  {
   "cell_type": "code",
   "execution_count": 35,
   "id": "f53d9a57-d83e-408f-aac8-b5f19b186cd5",
   "metadata": {},
   "outputs": [
    {
     "name": "stdout",
     "output_type": "stream",
     "text": [
      "[1, 3, 5, 7, 9, 11, 13, 15, 17, 19, 21, 23, 25, 27, 29, 31, 33, 35, 37, 39, 41, 43, 45, 47, 49, 51, 53, 55, 57, 59, 61, 63, 65, 67, 69, 71, 73, 75, 77, 79, 81, 83, 85, 87, 89, 91, 93, 95, 97, 99]\n"
     ]
    }
   ],
   "source": [
    "#q9\n",
    "l1=[i for i in range(1,101)]\n",
    "\n",
    "      \n"
   ]
  },
  {
   "cell_type": "code",
   "execution_count": null,
   "id": "ad4fd761-d89f-4d50-b357-b927dd866ef9",
   "metadata": {},
   "outputs": [],
   "source": []
  }
 ],
 "metadata": {
  "kernelspec": {
   "display_name": "Python 3 (ipykernel)",
   "language": "python",
   "name": "python3"
  },
  "language_info": {
   "codemirror_mode": {
    "name": "ipython",
    "version": 3
   },
   "file_extension": ".py",
   "mimetype": "text/x-python",
   "name": "python",
   "nbconvert_exporter": "python",
   "pygments_lexer": "ipython3",
   "version": "3.10.8"
  }
 },
 "nbformat": 4,
 "nbformat_minor": 5
}
