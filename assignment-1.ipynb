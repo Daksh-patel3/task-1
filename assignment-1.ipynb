{
 "cells": [
  {
   "cell_type": "code",
   "execution_count": null,
   "id": "4e2ac663-5e60-4ba5-8ba4-ce8f9c6765c9",
   "metadata": {},
   "outputs": [],
   "source": [
    "1)Goido Van Rossum has developed python programming"
   ]
  },
  {
   "cell_type": "code",
   "execution_count": null,
   "id": "bea27f11-79f0-4c6a-995e-02fad8cbdfcc",
   "metadata": {},
   "outputs": [],
   "source": [
    "2)python supports object oriented programming language"
   ]
  },
  {
   "cell_type": "code",
   "execution_count": null,
   "id": "6705467b-43c7-468a-b23b-f46cbf6fced7",
   "metadata": {},
   "outputs": [],
   "source": [
    "3)yes,python is case sensitive when dealing with identifier.i.e inp and Inp are two differnt variable"
   ]
  },
  {
   "cell_type": "code",
   "execution_count": null,
   "id": "d894254c-4531-4ea4-9668-15265759747d",
   "metadata": {},
   "outputs": [],
   "source": [
    "4)extension of python file is .py"
   ]
  },
  {
   "cell_type": "code",
   "execution_count": null,
   "id": "7c8fc359-8da9-42c5-b800-da83f5337a53",
   "metadata": {},
   "outputs": [],
   "source": [
    "5)python code is interpreted"
   ]
  },
  {
   "cell_type": "code",
   "execution_count": 2,
   "id": "21cdb7c5-f0d7-4f0c-bfc0-1696a0d567e7",
   "metadata": {},
   "outputs": [
    {
     "name": "stdout",
     "output_type": "stream",
     "text": [
      "1\n",
      "2\n",
      "2\n",
      "2\n",
      "3\n",
      "3\n",
      "4\n",
      "6\n",
      "5\n"
     ]
    }
   ],
   "source": [
    "#6)here is some python code:\n",
    "l=[1,2,2,2,3,3,4,6,5]\n",
    "    \n",
    "for i in l:\n",
    "    print(i)\n",
    "        "
   ]
  },
  {
   "cell_type": "code",
   "execution_count": null,
   "id": "cd43491c-5e6f-4e83-996c-6895afc6bb0f",
   "metadata": {},
   "outputs": [],
   "source": [
    "7)'#' charactr is used for single line comment"
   ]
  },
  {
   "cell_type": "code",
   "execution_count": null,
   "id": "650c5814-e712-4987-9c5f-6d26f38ababd",
   "metadata": {},
   "outputs": [],
   "source": [
    "8)to check version you can go to terminal and write:python --version"
   ]
  },
  {
   "cell_type": "code",
   "execution_count": null,
   "id": "0837fb9a-39fe-4110-91f0-582751c5f7b4",
   "metadata": {},
   "outputs": [],
   "source": [
    "9)To create anonymous function at run time lambada consructor is used"
   ]
  },
  {
   "cell_type": "code",
   "execution_count": null,
   "id": "9d75ee3d-5731-4429-b6a2-b6954e5f9c61",
   "metadata": {},
   "outputs": [],
   "source": [
    "10)pip means 'pip install packages'.it is used to install packages in python.i.e.pip install django"
   ]
  },
  {
   "cell_type": "code",
   "execution_count": null,
   "id": "26093588-d3ee-4b07-9e56-c1b586e2c970",
   "metadata": {},
   "outputs": [],
   "source": [
    "11)inbuilt functions-type(),len(),count(),insert(),append(),extend(),pop(),remove()"
   ]
  },
  {
   "cell_type": "code",
   "execution_count": null,
   "id": "3482d0d1-e453-48dc-b7b7-f3d6ae79fa49",
   "metadata": {},
   "outputs": [],
   "source": [
    "12)in python maximum length used for identifier is 79 characters"
   ]
  },
  {
   "cell_type": "code",
   "execution_count": null,
   "id": "f17c5269-18ef-4e59-981e-487bc83cc1d9",
   "metadata": {},
   "outputs": [],
   "source": [
    "13)python has high number of inbuilt fuctions,libraries for various kind of work like statics which is\n",
    "  mainly used in machine learning and user do not have to write a code repetatively.using inbuilt function\n",
    "  it can do its work.\n",
    " "
   ]
  },
  {
   "cell_type": "code",
   "execution_count": null,
   "id": "f3152c8c-a5f7-439d-84cf-ba295b27703d",
   "metadata": {},
   "outputs": [],
   "source": [
    "14)in python there is module called python memorey manager which is responsible\n",
    "  foe allocating and deallocating memory to objects."
   ]
  },
  {
   "cell_type": "code",
   "execution_count": null,
   "id": "c71843a5-589a-48bf-ae6e-bc44ac5dbf91",
   "metadata": {},
   "outputs": [],
   "source": [
    "15)To install python you can type python download in browser and you can find option to \n",
    "   download for windows.by clicking you can download .exe file.Now open exe file and press yes.\n",
    "    python start to install\n",
    "  To set path go edit system environmental then select path in user variable.press edit.click on new \n",
    "  and paste path where you downloaded the python in your computer.press ok.path is set."
   ]
  },
  {
   "cell_type": "code",
   "execution_count": null,
   "id": "6c0bacf8-24b7-409d-9956-c7a13b21bb56",
   "metadata": {},
   "outputs": [],
   "source": [
    "16)Yes indentation is necessary in python."
   ]
  }
 ],
 "metadata": {
  "kernelspec": {
   "display_name": "Python 3 (ipykernel)",
   "language": "python",
   "name": "python3"
  },
  "language_info": {
   "codemirror_mode": {
    "name": "ipython",
    "version": 3
   },
   "file_extension": ".py",
   "mimetype": "text/x-python",
   "name": "python",
   "nbconvert_exporter": "python",
   "pygments_lexer": "ipython3",
   "version": "3.10.8"
  }
 },
 "nbformat": 4,
 "nbformat_minor": 5
}
