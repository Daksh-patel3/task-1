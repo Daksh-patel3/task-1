{
 "cells": [
  {
   "cell_type": "code",
   "execution_count": 1,
   "id": "f4b3b6d1-f1f6-40b6-b856-7bce5ba90dd8",
   "metadata": {},
   "outputs": [
    {
     "name": "stdin",
     "output_type": "stream",
     "text": [
      "enter your percentage- 76\n"
     ]
    },
    {
     "name": "stdout",
     "output_type": "stream",
     "text": [
      "Grade C\n"
     ]
    }
   ],
   "source": [
    "#q1\n",
    "percentage=int(input(\"enter your percentage-\"))\n",
    "\n",
    "if percentage>90:\n",
    "    print(\"Grade A\")\n",
    "elif percentage>80 and percentage<=90:\n",
    "    print(\"Grade B\")\n",
    "elif percentage>=60 and percentage<=80:\n",
    "    print(\"Grade C\")\n",
    "else:\n",
    "    print(\"Grade D\")"
   ]
  },
  {
   "cell_type": "code",
   "execution_count": 2,
   "id": "6c2f420a-f240-4db7-a367-46f50fa54645",
   "metadata": {},
   "outputs": [
    {
     "name": "stdin",
     "output_type": "stream",
     "text": [
      "enter a cost of bike- 70000\n"
     ]
    },
    {
     "name": "stdout",
     "output_type": "stream",
     "text": [
      "Road Tax is 10%\n"
     ]
    }
   ],
   "source": [
    "#q2\n",
    "costPrice=int(input(\"enter a cost of bike-\"))\n",
    "if costPrice>100000:\n",
    "    print(\"Road Tax is 15%\")\n",
    "elif costPrice>50000 and costPrice<=100000:\n",
    "    print(\"Road Tax is 10%\")\n",
    "elif costPrice<=50000:\n",
    "    print(\"Road Tax is 5%\")"
   ]
  },
  {
   "cell_type": "code",
   "execution_count": 3,
   "id": "04368d87-8407-4347-bfd7-2278ce473b86",
   "metadata": {},
   "outputs": [
    {
     "name": "stdin",
     "output_type": "stream",
     "text": [
      "enter a city name- Agra\n"
     ]
    },
    {
     "name": "stdout",
     "output_type": "stream",
     "text": [
      "monuments:Taj Mahal\n"
     ]
    }
   ],
   "source": [
    "#q3\n",
    "city=input(\"enter a city name-\")\n",
    "\n",
    "if city=='Delhi':\n",
    "    print(\"monuments:Red Fort\")\n",
    "elif city=='Agra':\n",
    "    print(\"monuments:Taj Mahal\")\n",
    "elif city=='Jaipur':\n",
    "    print(\"monuments:Jal Mahal\")"
   ]
  },
  {
   "cell_type": "code",
   "execution_count": 5,
   "id": "876a0e0e-bb87-4625-a143-294cc8e78f8e",
   "metadata": {},
   "outputs": [
    {
     "name": "stdin",
     "output_type": "stream",
     "text": [
      "Enter a number- 66\n"
     ]
    },
    {
     "name": "stdout",
     "output_type": "stream",
     "text": [
      "number is divided by 3 exactly  1 number of times before less than or equal to 10\n"
     ]
    }
   ],
   "source": [
    "#q4\n",
    "number=int(input(\"Enter a number-\"))\n",
    "count=0\n",
    "\n",
    "while number>10:\n",
    "    rem=number%3\n",
    "    if rem==0:\n",
    "        count=count+1\n",
    "        number=number/3\n",
    "    else:\n",
    "        break\n",
    "print(\"number is divided by 3 exactly \",count,\"number of times before less than or equal to 10\")"
   ]
  },
  {
   "cell_type": "code",
   "execution_count": 6,
   "id": "4ce9be38-12bb-4da1-a114-d006179ed086",
   "metadata": {},
   "outputs": [
    {
     "name": "stdout",
     "output_type": "stream",
     "text": [
      "1\n",
      "2\n",
      "3\n",
      "4\n"
     ]
    }
   ],
   "source": [
    "#q5\n",
    "\"\"\"while loop is use when we have to perform a task repetatively until given condition is satisfied.\"\"\"\n",
    "   \n",
    "a=1\n",
    "\n",
    "while a<5:\n",
    "    print(a)\n",
    "    a=a+1\n",
    "\n"
   ]
  },
  {
   "cell_type": "code",
   "execution_count": 12,
   "id": "d75fa4c8-6d6a-4b08-89ca-1e242ed3ce5b",
   "metadata": {},
   "outputs": [
    {
     "name": "stdout",
     "output_type": "stream",
     "text": [
      "pattern-1\n"
     ]
    },
    {
     "name": "stdin",
     "output_type": "stream",
     "text": [
      "enter a number of rows in pattern- 7\n"
     ]
    },
    {
     "name": "stdout",
     "output_type": "stream",
     "text": [
      "*\n",
      "**\n",
      "***\n",
      "****\n",
      "*****\n",
      "******\n",
      "*******\n",
      "pattern-2\n",
      "      *\n",
      "     **\n",
      "    ***\n",
      "   ****\n",
      "  *****\n",
      " ******\n",
      "*******\n",
      "pattern-3\n",
      "*******\n",
      "******\n",
      "*****\n",
      "****\n",
      "***\n",
      "**\n",
      "*\n"
     ]
    }
   ],
   "source": [
    "#q6\n",
    "\"\"\"pattern -1\"\"\"\n",
    "print(\"pattern-1\")\n",
    "\n",
    "row=int(input(\"enter a number of rows in pattern-\"))\n",
    "i=1\n",
    "\n",
    "while i<=row:\n",
    "    j=1\n",
    "    while j<=i:\n",
    "        print(\"*\",end=\"\")\n",
    "        j=j+1\n",
    "    print(\"\")\n",
    "    i=i+1\n",
    "    \n",
    "\"\"\"pattern -2\"\"\"\n",
    "print(\"pattern-2\")\n",
    "\n",
    "space=row-1\n",
    "i=1\n",
    "\n",
    "while i<=row:\n",
    "    print(\" \"*space,end=\"\")\n",
    "    j=1\n",
    "    while j<=i:\n",
    "        print(\"*\",end=\"\")\n",
    "        j=j+1\n",
    "    print(\"\")\n",
    "    space=space-1\n",
    "    i=i+1\n",
    "    \n",
    "\"\"\"pattern-3\"\"\"\n",
    "print(\"pattern-3\")\n",
    "\n",
    "i=row\n",
    "\n",
    "while i>=1:\n",
    "    j=1\n",
    "    while j<=i:\n",
    "        print(\"*\",end=\"\")\n",
    "        j=j+1\n",
    "    print(\"\")\n",
    "    i=i-1"
   ]
  },
  {
   "cell_type": "code",
   "execution_count": 13,
   "id": "ad00daa3-94ce-499e-a479-874efc8dc128",
   "metadata": {},
   "outputs": [
    {
     "name": "stdout",
     "output_type": "stream",
     "text": [
      "10\n",
      "9\n",
      "8\n",
      "7\n",
      "6\n",
      "5\n",
      "4\n",
      "3\n",
      "2\n",
      "1\n"
     ]
    }
   ],
   "source": [
    "#q7\n",
    "i=10\n",
    "\n",
    "while i>=1:\n",
    "    print(i)\n",
    "    i=i-1"
   ]
  },
  {
   "cell_type": "code",
   "execution_count": null,
   "id": "9576b24c-b829-4fbf-a48c-ddb0b835d070",
   "metadata": {},
   "outputs": [],
   "source": []
  }
 ],
 "metadata": {
  "kernelspec": {
   "display_name": "Python 3 (ipykernel)",
   "language": "python",
   "name": "python3"
  },
  "language_info": {
   "codemirror_mode": {
    "name": "ipython",
    "version": 3
   },
   "file_extension": ".py",
   "mimetype": "text/x-python",
   "name": "python",
   "nbconvert_exporter": "python",
   "pygments_lexer": "ipython3",
   "version": "3.10.8"
  }
 },
 "nbformat": 4,
 "nbformat_minor": 5
}
